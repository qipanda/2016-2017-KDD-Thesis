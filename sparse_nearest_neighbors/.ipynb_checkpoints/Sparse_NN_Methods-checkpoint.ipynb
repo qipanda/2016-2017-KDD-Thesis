{
 "cells": [
  {
   "cell_type": "markdown",
   "metadata": {},
   "source": [
    "# Sparse_NN_Methods \n",
    "(Last updated Feb 16th, 2017) - Qi Pan\n",
    "\n",
    "## Table of Contents\n",
    "**1. Sparse Data Representations**\n",
    "* 1.1 Data Overview\n",
    "* 1.2 X_correct and X_views\n",
    "* 1.3 X_correct_latest and X_views latest\n",
    "\n",
    "**2. Baseline methods**\n",
    "* 2.1 Global Average\n",
    "* 2.2 Within Col (Step) Average \n",
    "* 2.3 Within Row (Student) Average\n",
    "\n",
    "**3. Sparse NN Methods**\n",
    "* 3.1 Cosine Similarity NN with {0, 1} encoding\n",
    "* 3.2 Cosine Similarity NN with {0, 1} encoding + no self similarity\n",
    "* 3.3 Cosine Similarity NN with {-1, 0, 1} encoding\n",
    "\n",
    "**4. Test Results**\n",
    "* 4.1 Accuracy\n",
    "* 4.2 Positive and Negative Predictive Value\n",
    "* 4.3 True Positive and Negative Rates\n",
    "* 4.4 Summary of All Tests"
   ]
  },
  {
   "cell_type": "markdown",
   "metadata": {},
   "source": [
    "## 1.) Sparse Data Representations\n",
    "### 1.1) Data Overview\n",
    "\n",
    "The dataset is from an Intelligent Tutorial System called Bridge to Algebra and captures student responses from the 2008-2009 school year. In the analysis below we focus on a subsegment of the whole dataset that contains:"
   ]
  },
  {
   "cell_type": "code",
   "execution_count": 4,
   "metadata": {
    "collapsed": false
   },
   "outputs": [
    {
     "name": "stdout",
     "output_type": "stream",
     "text": [
      "number of unique students = 4593\n",
      "number of unique problems = 909\n",
      "number of unique steps = 113\n",
      "number of unique problem-step combinations = 30043\n"
     ]
    }
   ],
   "source": [
    "import pandas as pd\n",
    "\n",
    "#load the dataset\n",
    "single_KC_data = pd.read_pickle('/Users/qipanda/Documents/2016-2017_KDD_Thesis/education_data'+\\\n",
    "    '/bridge_to_algebra_2008_2009/bridge_0809_KC.pkl')\n",
    "\n",
    "#Number of students, problems, steps, problem-step combinations\n",
    "print('number of unique students = {}'.format(single_KC_data['Anon Student Id'].nunique()))\n",
    "print('number of unique problems = {}'.format(single_KC_data['Problem Name'].nunique()))\n",
    "print('number of unique steps = {}'.format(single_KC_data['Step Name'].nunique()))\n",
    "print('number of unique problem-step combinations = {}'.\\\n",
    "    format(single_KC_data.groupby(['Problem Name', 'Step Name']).size().shape[0]))"
   ]
  },
  {
   "cell_type": "markdown",
   "metadata": {},
   "source": [
    "### 1.2) X_correct and X_views\n",
    "\n",
    "The dataset is represented mathematicaly by 3D matrices defined as such:\n",
    "\n",
    "\\begin{equation}\n",
    "    \\mathbf{X}_{correct} \\in \\mathbb{R}^{MxNxT}\\text{, } \n",
    "    \\mathbf{X}_{views} \\in \\mathbb{R}^{MxNxT}\n",
    "\\end{equation}\n",
    "\n",
    "\\begin{equation}\n",
    "    M =\\text{number of unique students}\\text{, }\n",
    "    N =\\text{number of unique problem-step combinations}\\text{, }\n",
    "    T =\\text{number of discrete time interval}\n",
    "\\end{equation}\n",
    "\n",
    "\\begin{equation}\n",
    "    X_{correct}^{(i,\\ j,\\ t)}=     \n",
    "    \\begin{cases}\n",
    "        0, & \\text{if student $i$ $[$is wrong about OR did not do$]$ problem-step $j$ at time $t$}\\\\\n",
    "        1, & \\text{if student $i$ got problem-step $j$ correct at time $t$}\n",
    "    \\end{cases}\n",
    "\\end{equation}\n",
    "\n",
    "\\begin{equation}\n",
    "    X_{views}^{(i,\\ j,\\ t)}=\n",
    "    \\begin{cases}\n",
    "        \\text{times student $i$ has seen problem-step $j$ at time $t$}, & \\text{if this problem-step was attempted at time $t$}\\\\\n",
    "        0, & \\text{else}\n",
    "    \\end{cases}\n",
    "\\end{equation}\n",
    "\n",
    "\\begin{equation}\n",
    "    \\forall i = 1,\\dots,M\\text{ }\n",
    "    \\forall j = 1,\\dots,N\\text{ }\n",
    "    \\forall t = 1,\\dots,T\n",
    "\\end{equation}\n",
    "\n",
    "In python, these 3D matrices are represented by lists of 2D sparse matrices where list indices represent $t$:"
   ]
  },
  {
   "cell_type": "code",
   "execution_count": 12,
   "metadata": {
    "collapsed": false
   },
   "outputs": [
    {
     "name": "stdout",
     "output_type": "stream",
     "text": [
      "Loading pickle from saved_ftrs/test_preprocessed_DM.pickle\n",
      "<class 'scipy.sparse.coo.coo_matrix'>\n",
      "<class 'scipy.sparse.coo.coo_matrix'>\n"
     ]
    }
   ],
   "source": [
    "import DataManipulators\n",
    "import loading_util as lu\n",
    "import numpy as np\n",
    "\n",
    "#load the data\n",
    "dm = lu.load_pickle('test_preprocessed_DM', 'saved_ftrs')\n",
    "\n",
    "#list indices reprent t, each member is a 2D sparse coo matrix\n",
    "print(type(dm.sparse_ftrs['X_correct'][0]))\n",
    "print(type(dm.sparse_ftrs['X_views'][0]))"
   ]
  },
  {
   "cell_type": "markdown",
   "metadata": {},
   "source": [
    "### 1.3) X_correct_latest and X_views_latest\n",
    "\n",
    "Because students can try problem-step combinations more than once, their latest \"correctness\" on a given problem-step may change. $X_{correct\\_latest}$ stores the most recent \"correctness\" at time $t$ for all problem-steps they've attemptd up to time $t$. Similairly, whereas $X_{views}$ only contained the views for a given problem-step exectued at time $t$, we are also interested in the total views a student had on all problem-steps they've attempted up to time $t$. The mathematical definitions are as follows:\n",
    "\n",
    "\\begin{equation}\n",
    "    \\mathbf{X}_{correct\\_latest} \\in \\mathbb{R}^{MxNxT}\\text{, }\n",
    "    \\mathbf{X}_{views\\_latest} \\in \\mathbb{R}^{MxNxT}\n",
    "\\end{equation}\n",
    "\n",
    "\\begin{equation}\n",
    "    M =\\text{number of unique students}\\text{, }\n",
    "    N =\\text{number of unique problem-step combinations}\\text{, }\n",
    "    T =\\text{number of discrete time interval}\n",
    "\\end{equation}\n",
    "\n",
    "\\begin{equation}\n",
    "    X_{correct\\_latest}^{(i,\\ j,\\ t)}=     \n",
    "    \\begin{cases}\n",
    "        0, & \\text{if student $i$ $[$was wrong on their last attempt of OR did not do$]$ problem-step $j$ up to time $t$}\\\\\n",
    "        1, & \\text{if student $i$ got problem-step $j$ correct on their last attempt up to time $t$}\n",
    "    \\end{cases}\n",
    "\\end{equation}\n",
    "\n",
    "\\begin{equation}\n",
    "    X_{views\\_latest}^{(i,\\ j,\\ t)}=\\text{number of times student $i$ has attempted problem-step $j$ up to time $t$}\n",
    "\\end{equation}\n",
    "\n",
    "\\begin{equation}\n",
    "    \\forall i = 1,\\dots,M\\text{ }\n",
    "    \\forall j = 1,\\dots,N\\text{ }\n",
    "    \\forall t = 1,\\dots,T\n",
    "\\end{equation}\n",
    "\n",
    "In python, these 3D matrices are represented by lists of 2D sparse matrices where list indices represent $t$:"
   ]
  },
  {
   "cell_type": "code",
   "execution_count": 14,
   "metadata": {
    "collapsed": false
   },
   "outputs": [
    {
     "name": "stdout",
     "output_type": "stream",
     "text": [
      "Loading pickle from saved_ftrs/test_preprocessed_DM.pickle\n",
      "<class 'scipy.sparse.coo.coo_matrix'>\n",
      "<class 'scipy.sparse.coo.coo_matrix'>\n"
     ]
    }
   ],
   "source": [
    "#load the data\n",
    "dm = lu.load_pickle('test_preprocessed_DM', 'saved_ftrs')\n",
    "\n",
    "#list indices reprent t, each member is a 2D sparse coo matrix\n",
    "print(type(dm.sparse_ftrs['X_correct_latest'][0]))\n",
    "print(type(dm.sparse_ftrs['X_views_latest'][0]))"
   ]
  },
  {
   "cell_type": "markdown",
   "metadata": {},
   "source": [
    "## 2.) Baseline Methods\n",
    "### 2.1) Global Average\n",
    "The most naive method, just predict all $0$ or $1$ based on whether the average of all non-sparse elements in $X_{correct\\_latest}$ is $\\geq0.5$, more formally:\n",
    "\n",
    "\\begin{equation}\n",
    "    \\mathcal{A} = \\text{set of $(i,\\ j,\\ t)$ indices where student $i$ has attempted problem-step $j$ at or before time $t$}\n",
    "\\end{equation}\n",
    "\n",
    "\\begin{equation}\n",
    "    X_{pred}^{(i,\\ j,\\ t)} = \n",
    "    \\begin{cases}\n",
    "        1, & \\text{if } \\frac{\\sum_{i',\\ j' \\in \\mathcal{A}^{(t)}} X_{correct\\_latest}^{(i',\\ j',\\ t)}}\n",
    "        {\\lvert\\mathcal{A}^{(t)}\\rvert}\n",
    "        \\geq\n",
    "        0.5\\\\\n",
    "        0, & \\text{else}\n",
    "    \\end{cases}\n",
    "\\end{equation}"
   ]
  },
  {
   "cell_type": "markdown",
   "metadata": {},
   "source": [
    "### 2.2) Within Col (Problem-Step) Average)\n",
    "A slightly more sophisticated way of doing the average is to predict the average across all students on a given problem-step. This happens to correspond to taking the average of a column in our 2D sparse matrices for a given time $t$. formally:\n",
    "\n",
    "\\begin{equation}\n",
    "    X_{pred}^{(i,\\ j,\\ t)} = \n",
    "    \\begin{cases}\n",
    "        1, & \\text{if } \\frac{\\sum_{i'\\in \\mathcal{A}^{(j,\\ t)}} X_{correct\\_latest}^{(i',\\ j,\\ t)}}\n",
    "        {\\lvert\\mathcal{A}^{(j,\\ t)}\\rvert}\n",
    "        \\geq\n",
    "        0.5 \\\\\n",
    "        0, & \\text{else}\n",
    "    \\end{cases}\n",
    "\\end{equation}"
   ]
  },
  {
   "cell_type": "markdown",
   "metadata": {},
   "source": [
    "### 2.3) Within Row (Student) Average)\n",
    "Similair to the Within Col execpt now for rows, predict using the hitorical average of the student. This happens to correspond to taking the average of a row in our 2D sparse matrices for a given time $t$. formally:\n",
    "\n",
    "\\begin{equation}\n",
    "    X_{pred}^{(i,\\ j,\\ t)} = \n",
    "    \\begin{cases}\n",
    "        1, & \\text{if } \\frac{\\sum_{j'\\in \\mathcal{A}^{(i,\\ t)}} X_{correct\\_latest}^{(i,\\ j',\\ t)}}\n",
    "        {\\lvert\\mathcal{A}^{(i,\\ t)}\\rvert}\n",
    "        \\geq\n",
    "        0.5 \\\\\n",
    "        0, & \\text{else}\n",
    "    \\end{cases}\n",
    "\\end{equation}"
   ]
  },
  {
   "cell_type": "markdown",
   "metadata": {},
   "source": [
    "## 3.) Sparse NN Methods\n",
    "### 3.1) Cosine Similarity NN with {0, 1} encoding\n",
    "First we calculate cosine similarity $\\mathbf{S}$ between students (rows) based on the default ${0, 1}$ encoding defined by $\\mathbf{X}_{correct\\_latest}$ earlier where:\n",
    "\n",
    "\\begin{equation}\n",
    "    \\mathbf{S} \\in \\mathbb{R}^{MxMxT}\n",
    "\\end{equation}\n",
    "\n",
    "\\begin{equation}\n",
    "    S^{(i_1,\\ i_2,\\ t)} = \\frac{\n",
    "            X_{correct\\_latest}^{(i_1,\\ \\cdot,\\ t)} \\cdot X_{correct\\_latest}^{(i_2,\\ \\cdot,\\ t)}\n",
    "        }\n",
    "        {\n",
    "            \\lVert X_{correct\\_latest}^{(i_1,\\ \\cdot,\\ t)}\\rVert \\ \\lVert X_{correct\\_latest}^{(i_2,\\ \\cdot,\\ t)}\\rVert\n",
    "        }\n",
    "\\end{equation}\n",
    "\n",
    "Next we obtain a base prediction matrix which contains the sum product of the $i^{th}$ students similarity row from $\\mathbf{S}$ and the coresponding $j^{th}$ problem-step column in $\\mathbf{X}_{correct\\_latest}$ This is then element wise divided by the sum of similarity scores for a given student $i$ and problem-step $j$, but only if those have students attempted the problem-step before or on current time $t$. The resulting prediction matrix is formalized as such: \n",
    "\n",
    "\\begin{equation}\n",
    "    \\mathbf{X}_{base\\_pred}^{(t)} = \\mathbf{S}^{(t)} \\cdot \\mathbf{X}_{correct\\_latest}^{(t)}\n",
    "\\end{equation}\n",
    "\n",
    "\\begin{equation}\n",
    "    X_{attempt\\_latest}^{(i,\\ j,\\ t)} =\n",
    "    \\begin{cases}\n",
    "        1, & \\text{if student $i$ has attempted problem-step $j$ before or at time $t$}\\\\\n",
    "        0, & \\text{else}\n",
    "    \\end{cases}\n",
    "\\end{equation}\n",
    "\n",
    "\\begin{equation}\n",
    "    \\forall i = 1,\\dots,M\\text{ }\n",
    "    \\forall j = 1,\\dots,N\\text{ }\n",
    "    \\forall t = 1,\\dots,T\n",
    "\\end{equation}\n",
    "\n",
    "\\begin{equation}\n",
    "    \\mathbf{X}_{weight\\_divisor}^{(t)} = \\mathbf{S}^{(t)} \\cdot \\mathbf{X}_{attempt\\_latest}^{(t)} \n",
    "\\end{equation}\n",
    "\n",
    "\\begin{equation}\n",
    "    \\mathbf{X}_{pred}^{(t+1)} = \\mathbf{X}_{base\\_pred}^{(t)} \\circ \\frac{1}{\\mathbf{X}_{weight\\_divisor}^{(t)}}\n",
    "\\end{equation}"
   ]
  },
  {
   "cell_type": "markdown",
   "metadata": {},
   "source": [
    "### 3.2) Cosine Similarity NN with {0, 1} encoding + no self similarity\n",
    "\n",
    "This method is just like 3.1) except the similarity matrix $\\mathbf{S}$ will have $0$ down the diagonal in order to prevent the students past performance on a problem-step contribute to their prediction. The reasoning for this is that because a student will always be completely similair to themselves, their history may overpower the contribution of other students to their predicted \"correctness\" defeating the purpose of NN methods. The final prediction matrix at for time $t+1$ is:\n",
    "\n",
    "\\begin{equation}\n",
    "    \\mathbf{S}_{noself}^{(i_1,\\ i_2,\\ t)} = \n",
    "    \\begin{cases}\n",
    "        0, & \\text{if $i_1 = i_2$}\\\\\n",
    "        \\mathbf{S}^{(i_1,\\ i_2,\\ t)}, & \\text{else}\n",
    "    \\end{cases}\n",
    "\\end{equation}\n",
    "\n",
    "\\begin{equation}\n",
    "    \\mathbf{X}_{weight\\_divisor\\_noself}^{(t)} = \\mathbf{S}_{noself}^{(t)} \\cdot \\mathbf{X}_{attempt\\_latest}^{(t)} \n",
    "\\end{equation}\n",
    "\n",
    "\\begin{equation}\n",
    "    \\mathbf{X}_{pred}^{(t+1)} = \\mathbf{X}_{base\\_pred}^{(t)} \\circ \\frac{1}{\\mathbf{X}_{weight\\_divisor\\_noself}^{(t)}}\n",
    "\\end{equation}"
   ]
  },
  {
   "cell_type": "markdown",
   "metadata": {},
   "source": [
    "### 3.3) Cosine Similarity NN with {-1, 0, 1} encoding"
   ]
  },
  {
   "cell_type": "markdown",
   "metadata": {},
   "source": [
    "## 4.) Test Results\n",
    "### 4.1) Accuracy"
   ]
  },
  {
   "cell_type": "markdown",
   "metadata": {},
   "source": []
  },
  {
   "cell_type": "markdown",
   "metadata": {},
   "source": []
  },
  {
   "cell_type": "markdown",
   "metadata": {},
   "source": []
  },
  {
   "cell_type": "code",
   "execution_count": 19,
   "metadata": {
    "collapsed": false
   },
   "outputs": [],
   "source": [
    "#so that plots show inline for this notebook\n",
    "%matplotlib notebook "
   ]
  },
  {
   "cell_type": "code",
   "execution_count": null,
   "metadata": {
    "collapsed": true
   },
   "outputs": [],
   "source": []
  }
 ],
 "metadata": {
  "kernelspec": {
   "display_name": "Python 3",
   "language": "python",
   "name": "python3"
  },
  "language_info": {
   "codemirror_mode": {
    "name": "ipython",
    "version": 3
   },
   "file_extension": ".py",
   "mimetype": "text/x-python",
   "name": "python",
   "nbconvert_exporter": "python",
   "pygments_lexer": "ipython3",
   "version": "3.5.2"
  }
 },
 "nbformat": 4,
 "nbformat_minor": 0
}
