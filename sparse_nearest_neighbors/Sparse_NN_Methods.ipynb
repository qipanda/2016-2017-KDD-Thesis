{
 "cells": [
  {
   "cell_type": "markdown",
   "metadata": {},
   "source": [
    "# Sparse_NN_Methods \n",
    "(Last updated Feb 16th, 2017) - Qi Pan\n",
    "\n",
    "## Table of Contents\n",
    "**1. Sparse Data Representations**\n",
    "* 1.1 Data Overview\n",
    "* 1.2 X_correct and X_views\n",
    "* 1.3 X_correct_latest and X_views latest\n",
    "\n",
    "**2. Baseline methods**\n",
    "* 2.1 Global Average\n",
    "* 2.2 Within Col (Step) Average \n",
    "* 2.3 Within Row (Student) Average\n",
    "\n",
    "**3. Sparse_NN_Methods**\n",
    "* 3.1 Cosine Similarity NN with {0, 1} encoding\n",
    "* 3.2 Cosine Similarity NN with {0, 1} encoding + no self similarity\n",
    "* 3.3 Cosine Similarity NN with {-1, 0, 1} encoding\n",
    "\n",
    "**4. Test Results**\n",
    "* 4.1 Accuracy\n",
    "* 4.2 Positive and Negative Predictive Value\n",
    "* 4.3 True Positive and Negative Rates"
   ]
  },
  {
   "cell_type": "markdown",
   "metadata": {},
   "source": [
    "## 1.) Sparse Data Representations\n",
    "### 1.1) Data Overview\n",
    "\n",
    "The dataset is from an Intelligent Tutorial System called Bridge to Algebra and captures student responses from the 2008-2009 school year. In the analysis below we focus on a subsegment of the whole dataset that contains:"
   ]
  },
  {
   "cell_type": "code",
   "execution_count": 4,
   "metadata": {
    "collapsed": false
   },
   "outputs": [
    {
     "name": "stdout",
     "output_type": "stream",
     "text": [
      "number of unique students = 4593\n",
      "number of unique problems = 909\n",
      "number of unique steps = 113\n",
      "number of unique problem-step combinations = 30043\n"
     ]
    }
   ],
   "source": [
    "import pandas as pd\n",
    "\n",
    "#load the dataset\n",
    "single_KC_data = pd.read_pickle('/Users/qipanda/Documents/2016-2017_KDD_Thesis/education_data'+\\\n",
    "    '/bridge_to_algebra_2008_2009/bridge_0809_KC.pkl')\n",
    "\n",
    "#Number of students, problems, steps, problem-step combinations\n",
    "print('number of unique students = {}'.format(single_KC_data['Anon Student Id'].nunique()))\n",
    "print('number of unique problems = {}'.format(single_KC_data['Problem Name'].nunique()))\n",
    "print('number of unique steps = {}'.format(single_KC_data['Step Name'].nunique()))\n",
    "print('number of unique problem-step combinations = {}'.\\\n",
    "    format(single_KC_data.groupby(['Problem Name', 'Step Name']).size().shape[0]))"
   ]
  },
  {
   "cell_type": "markdown",
   "metadata": {},
   "source": [
    "## 1.2) X_correct and X_views\n",
    "\n",
    "The dataset is represented mathematicaly by 3D matrices defined as such:\n",
    "\n",
    "\\begin{equation}\n",
    "    X_{correct} \\in \\mathbb{R}^{mxnxt}\\text{, } \n",
    "    X_{views} \\in \\mathbb{R}^{mxnxt}\n",
    "\\end{equation}\n",
    "\n",
    "\\begin{equation}\n",
    "    \\text{where $m =$ unique students, $n =$ unique problem-step combinations, and $t =$ the discrete time interval}\n",
    "\\end{equation}\n",
    "\n",
    "\\begin{equation}\n",
    "    X_{correct}=     \n",
    "    \\begin{cases}\n",
    "        0, & \\text{if student $i$ $[$is wrong about OR did not do$]$ problem-step $j$ at time $t$}\\\\\n",
    "        1, & \\text{if student $i$ got problem-step $j$ correct at time $t$}\n",
    "    \\end{cases}\n",
    "\\end{equation}\n",
    "\n",
    "\\begin{equation}\n",
    "    X_{views}=\\text{number of times student $i$ has seen problem-step $j$ at current time $t$}\n",
    "\\end{equation}\n",
    "\n",
    "In python, these 3D matrices are represented by lists of 2D sparse matrices where list indices represent $t$:"
   ]
  },
  {
   "cell_type": "code",
   "execution_count": 12,
   "metadata": {
    "collapsed": false
   },
   "outputs": [
    {
     "name": "stdout",
     "output_type": "stream",
     "text": [
      "Loading pickle from saved_ftrs/test_preprocessed_DM.pickle\n",
      "<class 'scipy.sparse.coo.coo_matrix'>\n",
      "<class 'scipy.sparse.coo.coo_matrix'>\n"
     ]
    }
   ],
   "source": [
    "import DataManipulators\n",
    "import loading_util as lu\n",
    "import numpy as np\n",
    "\n",
    "#load the data\n",
    "dm = lu.load_pickle('test_preprocessed_DM', 'saved_ftrs')\n",
    "\n",
    "#list indices reprent t, each member is a 2D sparse coo matrix\n",
    "print(type(dm.sparse_ftrs['X_correct'][0]))\n",
    "print(type(dm.sparse_ftrs['X_views'][0]))"
   ]
  },
  {
   "cell_type": "markdown",
   "metadata": {},
   "source": [
    "## 1.3 X_correct_latest and X_views_latest\n",
    "\n",
    "Because students can try problem-step combinations more than once, their latest \"correctness\" on a given problem-step may change. $X_correct_latest$ stores the most recent \"correctness\" at time $t$ for all problem-steps they've attemptd up to time t. Similairly, whereas $X_{views}$ only contained the views for a given problem-step exectued at time $t$, we are also interested in the total views a student had on all problem-steps they've attempted up to time $t$. The mathematical definitions are as follows:\n",
    "\n",
    "\\begin{equation}\n",
    "    X_{correct\\_latest} \\in \\mathbb{R}^{mxnxt}\\text{, } \n",
    "    X_{views\\_latest} \\in \\mathbb{R}^{mxnxt}\n",
    "\\end{equation}\n",
    "\n",
    "\\begin{equation}\n",
    "    \\text{where $m =$ unique students, $n =$ unique problem-step combinations, and $t =$ the discrete time interval}\n",
    "\\end{equation}\n",
    "\n",
    "\\begin{equation}\n",
    "    X_{correct\\_latest}=     \n",
    "    \\begin{cases}\n",
    "        0, & \\text{if student $i$ $[$was wrong on their last attempt of OR did not do$]$ problem-step $j$ up to time $t$}\\\\\n",
    "        1, & \\text{if student $i$ got problem-step $j$ correct on their last attempt up to time $t$}\n",
    "    \\end{cases}\n",
    "\\end{equation}\n",
    "\n",
    "\\begin{equation}\n",
    "    X_{views\\_latest}=\\text{number of times student $i$ has attempted problem-step $j$ up to time $t$}\n",
    "\\end{equation}\n",
    "\n",
    "In python, these 3D matrices are represented by lists of 2D sparse matrices where list indices represent $t$:"
   ]
  },
  {
   "cell_type": "code",
   "execution_count": 12,
   "metadata": {
    "collapsed": false
   },
   "outputs": [
    {
     "name": "stdout",
     "output_type": "stream",
     "text": [
      "Loading pickle from saved_ftrs/test_preprocessed_DM.pickle\n",
      "<class 'scipy.sparse.coo.coo_matrix'>\n",
      "<class 'scipy.sparse.coo.coo_matrix'>\n"
     ]
    }
   ],
   "source": [
    "import DataManipulators\n",
    "import loading_util as lu\n",
    "import numpy as np\n",
    "\n",
    "#load the data\n",
    "dm = lu.load_pickle('test_preprocessed_DM', 'saved_ftrs')\n",
    "\n",
    "#list indices reprent t, each member is a 2D sparse coo matrix\n",
    "print(type(dm.sparse_ftrs['X_correct'][0]))\n",
    "print(type(dm.sparse_ftrs['X_views'][0]))"
   ]
  },
  {
   "cell_type": "code",
   "execution_count": null,
   "metadata": {
    "collapsed": true
   },
   "outputs": [],
   "source": [
    "%matplotlib notebook #so that plots show inline for this notebook"
   ]
  }
 ],
 "metadata": {
  "kernelspec": {
   "display_name": "Python 3",
   "language": "python",
   "name": "python3"
  },
  "language_info": {
   "codemirror_mode": {
    "name": "ipython",
    "version": 3
   },
   "file_extension": ".py",
   "mimetype": "text/x-python",
   "name": "python",
   "nbconvert_exporter": "python",
   "pygments_lexer": "ipython3",
   "version": "3.5.2"
  }
 },
 "nbformat": 4,
 "nbformat_minor": 0
}
